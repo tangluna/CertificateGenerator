{
  "nbformat": 4,
  "nbformat_minor": 0,
  "metadata": {
    "colab": {
      "name": "CertificateGenerator.ipynb",
      "provenance": [],
      "authorship_tag": "ABX9TyN4yPImhoyqe+WVHkWuNpgn",
      "include_colab_link": true
    },
    "kernelspec": {
      "name": "python3",
      "display_name": "Python 3"
    }
  },
  "cells": [
    {
      "cell_type": "markdown",
      "metadata": {
        "id": "view-in-github",
        "colab_type": "text"
      },
      "source": [
        "<a href=\"https://colab.research.google.com/github/tangluna/CertificateGenerator/blob/master/CertificateGenerator.ipynb\" target=\"_parent\"><img src=\"https://colab.research.google.com/assets/colab-badge.svg\" alt=\"Open In Colab\"/></a>"
      ]
    },
    {
      "cell_type": "markdown",
      "metadata": {
        "id": "iS4YJXJWpLr3",
        "colab_type": "text"
      },
      "source": [
        "#Generating Certificates from CSV File Data\n",
        "By: Tarang Lunawat\n",
        "\n",
        "This program reads in names and Python achievement levels from a CSV file, and then generates and downloads a personalized certificate PDF for each of them. The certificate includes the name, level of Python mastery, logos, and a signature, and the PDF is named using the recipient name."
      ]
    },
    {
      "cell_type": "markdown",
      "metadata": {
        "id": "AVhxMDQmVaDe",
        "colab_type": "text"
      },
      "source": [
        "There's an example certificate in the GitHub README"
      ]
    },
    {
      "cell_type": "markdown",
      "metadata": {
        "id": "U5c5NKQLVZIV",
        "colab_type": "text"
      },
      "source": [
        "First, import the relavent libraries"
      ]
    },
    {
      "cell_type": "code",
      "metadata": {
        "id": "xGpQr4NK3SC7",
        "colab_type": "code",
        "colab": {
          "base_uri": "https://localhost:8080/",
          "height": 170
        },
        "outputId": "54010c98-4ae5-433c-84cb-2f1803e081b3"
      },
      "source": [
        "!pip install fpdf #bash command to get the fpdf library\n",
        "\n",
        "from fpdf import FPDF\n",
        "from google.colab import files\n",
        "from datetime import datetime as dt\n",
        "import numpy as np\n",
        "from PIL import Image, ImageDraw\n",
        "import pandas as pd\n",
        "import pytz"
      ],
      "execution_count": null,
      "outputs": [
        {
          "output_type": "stream",
          "text": [
            "Collecting fpdf\n",
            "  Downloading https://files.pythonhosted.org/packages/37/c6/608a9e6c172bf9124aa687ec8b9f0e8e5d697d59a5f4fad0e2d5ec2a7556/fpdf-1.7.2.tar.gz\n",
            "Building wheels for collected packages: fpdf\n",
            "  Building wheel for fpdf (setup.py) ... \u001b[?25l\u001b[?25hdone\n",
            "  Created wheel for fpdf: filename=fpdf-1.7.2-py2.py3-none-any.whl size=40720 sha256=d7baaabf434755523e78c0d807c52a6ac6c9eca365ae8a728a184437b5cded1e\n",
            "  Stored in directory: /root/.cache/pip/wheels/9a/e9/77/4554ff5c99bc3f487c8d69620d8c41d99d54e9c54ab20ef4c9\n",
            "Successfully built fpdf\n",
            "Installing collected packages: fpdf\n",
            "Successfully installed fpdf-1.7.2\n"
          ],
          "name": "stdout"
        }
      ]
    },
    {
      "cell_type": "markdown",
      "metadata": {
        "id": "ROmp0DBlOwJr",
        "colab_type": "text"
      },
      "source": [
        "#Image Imports\n",
        "First, we have to import all the images. The first image (‘e42aab1b15084b3afcd98a88ce07ce01.jpg’) is the background for the certificate. Feel free to change that to any other one of your preference by replacing the link and the name of the image later on in the program. You may also have to adjust some text colors to retain the cohesive look of the certificate.\n",
        "\n",
        "The last image uploaded is an image of the signature used on the certificate. **It is currently a placeholder. Be sure to upload a real signature and replace the name in the signatureImgName variable**\n",
        "\n",
        "The other three images are the logos included in the bottom of the certificate. The first and third are used as is, but the second one is edited a little later on."
      ]
    },
    {
      "cell_type": "code",
      "metadata": {
        "id": "h-IqgMfCGcMC",
        "colab_type": "code",
        "colab": {
          "base_uri": "https://localhost:8080/",
          "height": 202
        },
        "outputId": "ee92bcdb-731d-4ef9-ce0d-aa66df45722a"
      },
      "source": [
        "!wget \"https://i.pinimg.com/originals/e4/2a/ab/e42aab1b15084b3afcd98a88ce07ce01.jpg\" # certificate background"
      ],
      "execution_count": null,
      "outputs": [
        {
          "output_type": "stream",
          "text": [
            "--2020-06-28 22:43:49--  https://i.pinimg.com/originals/e4/2a/ab/e42aab1b15084b3afcd98a88ce07ce01.jpg\n",
            "Resolving i.pinimg.com (i.pinimg.com)... 104.18.15.176, 104.18.14.176, 2a04:4e42:2f::84\n",
            "Connecting to i.pinimg.com (i.pinimg.com)|104.18.15.176|:443... connected.\n",
            "HTTP request sent, awaiting response... 200 OK\n",
            "Length: 55062 (54K) [image/jpeg]\n",
            "Saving to: ‘e42aab1b15084b3afcd98a88ce07ce01.jpg’\n",
            "\n",
            "\r          e42aab1b1   0%[                    ]       0  --.-KB/s               \re42aab1b15084b3afcd 100%[===================>]  53.77K  --.-KB/s    in 0s      \n",
            "\n",
            "2020-06-28 22:43:49 (135 MB/s) - ‘e42aab1b15084b3afcd98a88ce07ce01.jpg’ saved [55062/55062]\n",
            "\n"
          ],
          "name": "stdout"
        }
      ]
    },
    {
      "cell_type": "code",
      "metadata": {
        "id": "ZGQt6mR7U4b4",
        "colab_type": "code",
        "colab": {
          "base_uri": "https://localhost:8080/",
          "height": 202
        },
        "outputId": "d0ae8591-91f8-4cfa-a535-12533cdbc9e7"
      },
      "source": [
        "!wget \"https://www.csr.utexas.edu/internship/images/tsgc_logo.png\" # tsgc logo"
      ],
      "execution_count": null,
      "outputs": [
        {
          "output_type": "stream",
          "text": [
            "--2020-06-28 23:46:56--  https://www.csr.utexas.edu/internship/images/tsgc_logo.png\n",
            "Resolving www.csr.utexas.edu (www.csr.utexas.edu)... 128.83.21.174\n",
            "Connecting to www.csr.utexas.edu (www.csr.utexas.edu)|128.83.21.174|:443... connected.\n",
            "HTTP request sent, awaiting response... 200 OK\n",
            "Length: 26636 (26K) [image/png]\n",
            "Saving to: ‘tsgc_logo.png’\n",
            "\n",
            "\rtsgc_logo.png         0%[                    ]       0  --.-KB/s               \rtsgc_logo.png       100%[===================>]  26.01K  --.-KB/s    in 0s      \n",
            "\n",
            "2020-06-28 23:46:56 (201 MB/s) - ‘tsgc_logo.png’ saved [26636/26636]\n",
            "\n"
          ],
          "name": "stdout"
        }
      ]
    },
    {
      "cell_type": "code",
      "metadata": {
        "id": "-P-CXpALXZ-a",
        "colab_type": "code",
        "colab": {
          "base_uri": "https://localhost:8080/",
          "height": 202
        },
        "outputId": "a31b5e5a-eaaf-4b8b-c92a-bfc1ef878fb9"
      },
      "source": [
        "!wget \"http://www.tsgc.utexas.edu/sees-internship/graphics/sees-box-240x240.png\" # sees logo"
      ],
      "execution_count": null,
      "outputs": [
        {
          "output_type": "stream",
          "text": [
            "--2020-06-28 23:58:33--  http://www.tsgc.utexas.edu/sees-internship/graphics/sees-box-240x240.png\n",
            "Resolving www.tsgc.utexas.edu (www.tsgc.utexas.edu)... 146.6.34.4\n",
            "Connecting to www.tsgc.utexas.edu (www.tsgc.utexas.edu)|146.6.34.4|:80... connected.\n",
            "HTTP request sent, awaiting response... 200 OK\n",
            "Length: 33914 (33K) [image/png]\n",
            "Saving to: ‘sees-box-240x240.png’\n",
            "\n",
            "\rsees-box-240x240.pn   0%[                    ]       0  --.-KB/s               \rsees-box-240x240.pn 100%[===================>]  33.12K  --.-KB/s    in 0.07s   \n",
            "\n",
            "2020-06-28 23:58:34 (453 KB/s) - ‘sees-box-240x240.png’ saved [33914/33914]\n",
            "\n"
          ],
          "name": "stdout"
        }
      ]
    },
    {
      "cell_type": "code",
      "metadata": {
        "id": "y3Nj5WSKorF_",
        "colab_type": "code",
        "colab": {
          "base_uri": "https://localhost:8080/",
          "height": 202
        },
        "outputId": "aa764a22-92b2-4856-84bc-706e7ad00675"
      },
      "source": [
        "!wget \"https://upload.wikimedia.org/wikipedia/commons/thumb/7/77/University_of_Texas_at_Austin_logo.svg/1280px-University_of_Texas_at_Austin_logo.svg.png\" # ut austin logo"
      ],
      "execution_count": null,
      "outputs": [
        {
          "output_type": "stream",
          "text": [
            "--2020-06-29 01:14:38--  https://upload.wikimedia.org/wikipedia/commons/thumb/7/77/University_of_Texas_at_Austin_logo.svg/1280px-University_of_Texas_at_Austin_logo.svg.png\n",
            "Resolving upload.wikimedia.org (upload.wikimedia.org)... 103.102.166.240, 2620:0:861:ed1a::2:b\n",
            "Connecting to upload.wikimedia.org (upload.wikimedia.org)|103.102.166.240|:443... connected.\n",
            "HTTP request sent, awaiting response... 200 OK\n",
            "Length: 79446 (78K) [image/png]\n",
            "Saving to: ‘1280px-University_of_Texas_at_Austin_logo.svg.png’\n",
            "\n",
            "1280px-University_o 100%[===================>]  77.58K   153KB/s    in 0.5s    \n",
            "\n",
            "2020-06-29 01:14:39 (153 KB/s) - ‘1280px-University_of_Texas_at_Austin_logo.svg.png’ saved [79446/79446]\n",
            "\n"
          ],
          "name": "stdout"
        }
      ]
    },
    {
      "cell_type": "markdown",
      "metadata": {
        "id": "9bFLVkh4ewXe",
        "colab_type": "text"
      },
      "source": [
        "This last upload is for an image of the signature to go on the certificates. **Make sure to change it to an actual signature - right now it is just a sample signature (the signature reads 'Signature').** If the signature is accessible through URL, just change the URL in the first line.\n",
        "\n",
        "Otherwise, uncomment the middle section and *comment out the first two lines*. Now, running the cell will allow you to upload a file to use as the signature image.\n",
        "\n",
        "Remember to change the variable in the last line. If it is left blank as it is originally, the text under the signature image will just read 'Signature'. If it is replaced with a name (or any other text), that text will be shown under the signature line."
      ]
    },
    {
      "cell_type": "code",
      "metadata": {
        "id": "hwKGrB5jaCiQ",
        "colab_type": "code",
        "colab": {
          "base_uri": "https://localhost:8080/",
          "height": 202
        },
        "outputId": "55b4da2b-2fb3-4b12-b518-3d08079c8c49"
      },
      "source": [
        "!wget \"https://i.ya-webdesign.com/images/sample-signature-png-9.png\" # sample signature - CHANGE THIS TO A REAL SIGNATURE FOR OFFICIAL CERIFICATES\n",
        "signatureImgName = \"sample-signature-png-9.png\" # MAKE SURE TO ALSO CHANGE THE NAME IN THIS VARIABLE TO MATCH THE UPLOADED IMAGE\n",
        "\n",
        "## UNCOMMENT THIS SECTION IF YOU WOULD PREFER TO UPLOAD A FILE - MAKE SURE TO COMMENT OUT THE FIRST TWO LINES IF SO\n",
        "'''\n",
        "uploaded = files.upload()\n",
        "\n",
        "for fn in uploaded.keys():\n",
        "  print('User uploaded file \"{name}\" with length {length} bytes'.format(\n",
        "      name=fn, length=len(uploaded[fn])))\n",
        "  \n",
        "signatureImgName = list(uploaded.keys())[0]\n",
        "'''\n",
        "\n",
        "nameOfSigner = '' # REPLACE THIS (otherwise, the text under the signature will just read 'Signature')"
      ],
      "execution_count": null,
      "outputs": [
        {
          "output_type": "stream",
          "text": [
            "--2020-06-29 05:05:24--  https://i.ya-webdesign.com/images/sample-signature-png-9.png\n",
            "Resolving i.ya-webdesign.com (i.ya-webdesign.com)... 172.67.223.91, 104.27.137.3, 104.27.136.3, ...\n",
            "Connecting to i.ya-webdesign.com (i.ya-webdesign.com)|172.67.223.91|:443... connected.\n",
            "HTTP request sent, awaiting response... 200 OK\n",
            "Length: 5996 (5.9K) [image/png]\n",
            "Saving to: ‘sample-signature-png-9.png.1’\n",
            "\n",
            "\r          sample-si   0%[                    ]       0  --.-KB/s               \rsample-signature-pn 100%[===================>]   5.86K  --.-KB/s    in 0s      \n",
            "\n",
            "2020-06-29 05:05:24 (61.5 MB/s) - ‘sample-signature-png-9.png.1’ saved [5996/5996]\n",
            "\n"
          ],
          "name": "stdout"
        }
      ]
    },
    {
      "cell_type": "markdown",
      "metadata": {
        "id": "GM7fOl8pUVj8",
        "colab_type": "text"
      },
      "source": [
        "#Photo Editing\n",
        "The SEES logo has a non-transparent background, so I created a function to edit that photo into a circle for a nicer look on the certificate. This function takes in the image, takes off the edges, and then masks it into a circle. The masked image is saved as a new file.\n",
        "\n",
        "The last line of this code block calls the function on the SEES logo."
      ]
    },
    {
      "cell_type": "code",
      "metadata": {
        "id": "g8CFiqZfX8Dd",
        "colab_type": "code",
        "colab": {}
      },
      "source": [
        "def make_image_circle(imageName, x_trim = 0, y_trim = 0):\n",
        "  img = Image.open(imageName) # opening image for editing\n",
        "  h,w = img.size\n",
        "  img = img.crop((x_trim, y_trim, w - x_trim, h - y_trim)).convert(\"RGB\") # cropping the image and converting it into RGB colors\n",
        "  npImage = np.array(img) # converts image into an array\n",
        "  h,w = img.size # size variables redefined after image is cropped\n",
        "\n",
        "  alpha = Image.new('L', img.size, 0) # creates new empty image\n",
        "  draw = ImageDraw.Draw(alpha)\n",
        "  draw.pieslice([0,0,h,w],0,360,fill=255) # draws white circle on empty image\n",
        "\n",
        "  npAlpha = np.array(alpha) # converts new image into an array\n",
        "\n",
        "  npImage = np.dstack((npImage, npAlpha)) # arrays are stacked - the first image's colors are kept only where the second image had a white fill \n",
        "\n",
        "  Image.fromarray(npImage).save(imageName[:-4] + \"_circle.png\") # converts array back into an image and saves it\n",
        "\n",
        "make_image_circle(\"sees-box-240x240.png\", 10, 10) # actually edits the image"
      ],
      "execution_count": null,
      "outputs": []
    },
    {
      "cell_type": "markdown",
      "metadata": {
        "id": "D9_ghG6KWl6n",
        "colab_type": "text"
      },
      "source": [
        "#Making the Certificate PDF\n",
        "This function is what actually generates certificates! It takes in the name of the recipient and level of certificate, and then generates a new pdf. The pdf is saved as **'certificate_Lastname_Firstname.pdf'** and is downloaded to the user's computer.\n",
        "\n",
        "Currently, the signature is a sample image - make sure to upload an actual signature above and change the name that is used above!\n",
        "\n",
        "This certificate also includes a date - it is autogenerated from system time and converted to US - Central (Austin, TX) time.\n",
        "\n",
        "The numbers used to get the right spacing are very finicky - *edit at your own risk*."
      ]
    },
    {
      "cell_type": "code",
      "metadata": {
        "id": "32UV1eop4MLB",
        "colab_type": "code",
        "colab": {}
      },
      "source": [
        "def make_certificate(fName, lName, level):\n",
        "  pdf = FPDF('L', 'mm', 'Letter') # initializes PDF to landscape orientation, letter size, and measurements in mm\n",
        "  pdf.add_page()\n",
        "  pdf.image(\"e42aab1b15084b3afcd98a88ce07ce01.jpg\", 0, 0, 279, 215) # adds background certificate image\n",
        "  pdf.set_font('Times', 'B', 50) # setting font\n",
        "  pdf.ln(49) # spacing\n",
        "  pdf.set_text_color(0, 0, 50) # setting text color\n",
        "  pdf.cell(0, 0, 'Certificate of Completion', 0, 1, 'C') # title text\n",
        "  pdf.set_font('Helvetica', '', 16)\n",
        "  pdf.ln(26)\n",
        "  pdf.set_text_color(0, 0, 0)\n",
        "  pdf.cell(0, 0, 'This certifies that', 0, 1, 'C') # certification text\n",
        "  pdf.set_font('Times', 'B', 50)\n",
        "  pdf.set_text_color(0, 0, 50)\n",
        "  pdf.ln(15)\n",
        "  pdf.cell(0, 0, fName + ' ' + lName, 0, 1, 'C') # name of recipient\n",
        "  pdf.set_font('Helvetica', '', 16)\n",
        "  pdf.set_text_color(0, 0, 0)\n",
        "  pdf.ln(15)\n",
        "  pdf.cell(0, 8, 'has completed Lesson 2: Python, ' + level + ' Level at the NASA Texas Space', 0, 1, 'C') # certificate details\n",
        "  pdf.cell(0, 8, 'Grant Consortium STEM Enhancement in Earth Science Summer Intern Program.', 0, 1, 'C')\n",
        "  pdf.ln(17)\n",
        "  date = dt.now(pytz.timezone('US/Central')) # getting date object (automatic - uses US Central time)\n",
        "  pdf.cell(90, 10, date.strftime('%B %d, %Y'), 0, 0, 'R') # formats and prints date\n",
        "  pdf.line(50, 157, 100, 157)\n",
        "  pdf.cell(69, 10, '', 0, 0)\n",
        "  # pdf.cell(110, 10, signatureText, 0, 0, 'L')\n",
        "  pdf.image(signatureImgName, 170, 137, 50) # signature image\n",
        "  pdf.line(170, 157, 220, 157)\n",
        "  pdf.ln(7)\n",
        "  pdf.set_font_size(12)\n",
        "  pdf.cell(90, 10, 'Date', 0, 0, 'R') # text under date\n",
        "  if (nameOfSigner != ''): # text under signature depending on what the variable holds\n",
        "    pdf.cell(70, 10, '', 0, 0)\n",
        "    pdf.cell(90, 10, nameOfSigner, 0, 0, 'L')\n",
        "  else:\n",
        "    pdf.cell(90, 10, \"Signature\", 0, 0, 'R')\n",
        "  pdf.image(\"sees-box-240x240_circle.png\", 124, 140, 25) # adding logos\n",
        "  pdf.image(\"tsgc_logo.png\", 70, 160, 65)\n",
        "  pdf.image(\"1280px-University_of_Texas_at_Austin_logo.svg.png\", 150, 171, 50)\n",
        "  pdf.output('certificate_' + lName + '_' + fName + '.pdf', 'F') # saving PDF\n",
        "  files.download('certificate_' + lName + '_' + fName + '.pdf') # downloading PDF to computer"
      ],
      "execution_count": 1,
      "outputs": []
    },
    {
      "cell_type": "markdown",
      "metadata": {
        "id": "mCRid5JmjT-Y",
        "colab_type": "text"
      },
      "source": [
        "#CSV File Processing\n",
        "This program accepts data as a CSV file. The titles of the CSV file columns should be \"First Name\", \"Last Name\", and \"Level\". **If your CSV file has different headings, this program will not work.**\n",
        "\n",
        "Here's an example of a CSV file that works: https://github.com/tangluna/CertificateGenerator/blob/master/ExampleCertificateInputData.csv\n",
        "\n",
        "Don't worry about what your CSV file is titled - the program automatically stores the name!"
      ]
    },
    {
      "cell_type": "code",
      "metadata": {
        "id": "FGHrfCUphKXB",
        "colab_type": "code",
        "colab": {
          "resources": {
            "http://localhost:8080/nbextensions/google.colab/files.js": {
              "data": "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",
              "ok": true,
              "headers": [
                [
                  "content-type",
                  "application/javascript"
                ]
              ],
              "status": 200,
              "status_text": ""
            }
          },
          "base_uri": "https://localhost:8080/",
          "height": 90
        },
        "outputId": "355100c7-c7d0-4618-b53f-195c142a46f9"
      },
      "source": [
        "uploaded = files.upload() # uploads files\n",
        "\n",
        "for fn in uploaded.keys(): # prints out all the files that were uploaded\n",
        "  print('User uploaded file \"{name}\" with length {length} bytes'.format(\n",
        "      name=fn, length=len(uploaded[fn])))\n",
        "  \n",
        "certificateInfoFile = list(uploaded.keys())[0] # stores first (and only) file's name"
      ],
      "execution_count": null,
      "outputs": [
        {
          "output_type": "display_data",
          "data": {
            "text/html": [
              "\n",
              "     <input type=\"file\" id=\"files-e3d6c9da-0cde-461e-9029-6d3d28c96f0a\" name=\"files[]\" multiple disabled\n",
              "        style=\"border:none\" />\n",
              "     <output id=\"result-e3d6c9da-0cde-461e-9029-6d3d28c96f0a\">\n",
              "      Upload widget is only available when the cell has been executed in the\n",
              "      current browser session. Please rerun this cell to enable.\n",
              "      </output>\n",
              "      <script src=\"/nbextensions/google.colab/files.js\"></script> "
            ],
            "text/plain": [
              "<IPython.core.display.HTML object>"
            ]
          },
          "metadata": {
            "tags": []
          }
        },
        {
          "output_type": "stream",
          "text": [
            "Saving CertificateInfo.csv to CertificateInfo.csv\n",
            "User uploaded file \"CertificateInfo.csv\" with length 95 bytes\n"
          ],
          "name": "stdout"
        }
      ]
    },
    {
      "cell_type": "markdown",
      "metadata": {
        "id": "QtHLXbpDkVtP",
        "colab_type": "text"
      },
      "source": [
        "I used the pandas library to parse the CSV file. It returns a DataFrame, which is stored in data."
      ]
    },
    {
      "cell_type": "code",
      "metadata": {
        "id": "1kj9ve0xkrDE",
        "colab_type": "code",
        "colab": {}
      },
      "source": [
        "data = pd.read_csv(certificateInfoFile) # parses and stores CSV data"
      ],
      "execution_count": null,
      "outputs": []
    },
    {
      "cell_type": "markdown",
      "metadata": {
        "id": "Cz2ont-FkgH8",
        "colab_type": "text"
      },
      "source": [
        "Finally, where the magic happens! This loops through all the rows in the CSV file, and subsequently in the DataFrame. For each row, it generates a certificate by calling the make_certificate function with arguments from what is stored in that row of the CSV file."
      ]
    },
    {
      "cell_type": "code",
      "metadata": {
        "id": "a6OZ4MzmEmL7",
        "colab_type": "code",
        "colab": {
          "base_uri": "https://localhost:8080/",
          "height": 17
        },
        "outputId": "543cd4fe-f9ee-4a9a-ae54-1061086554bc"
      },
      "source": [
        "for ind in data.index: # loops through the CSV rows (excluding the first)\n",
        "  make_certificate(data['First Name'][ind], data['Last Name'][ind], data['Level'][ind]) # calls function to generate and download certificate with data from that row\n"
      ],
      "execution_count": null,
      "outputs": [
        {
          "output_type": "display_data",
          "data": {
            "application/javascript": [
              "\n",
              "    async function download(id, filename, size) {\n",
              "      if (!google.colab.kernel.accessAllowed) {\n",
              "        return;\n",
              "      }\n",
              "      const div = document.createElement('div');\n",
              "      const label = document.createElement('label');\n",
              "      label.textContent = `Downloading \"${filename}\": `;\n",
              "      div.appendChild(label);\n",
              "      const progress = document.createElement('progress');\n",
              "      progress.max = size;\n",
              "      div.appendChild(progress);\n",
              "      document.body.appendChild(div);\n",
              "\n",
              "      const buffers = [];\n",
              "      let downloaded = 0;\n",
              "\n",
              "      const channel = await google.colab.kernel.comms.open(id);\n",
              "      // Send a message to notify the kernel that we're ready.\n",
              "      channel.send({})\n",
              "\n",
              "      for await (const message of channel.messages) {\n",
              "        // Send a message to notify the kernel that we're ready.\n",
              "        channel.send({})\n",
              "        if (message.buffers) {\n",
              "          for (const buffer of message.buffers) {\n",
              "            buffers.push(buffer);\n",
              "            downloaded += buffer.byteLength;\n",
              "            progress.value = downloaded;\n",
              "          }\n",
              "        }\n",
              "      }\n",
              "      const blob = new Blob(buffers, {type: 'application/binary'});\n",
              "      const a = document.createElement('a');\n",
              "      a.href = window.URL.createObjectURL(blob);\n",
              "      a.download = filename;\n",
              "      div.appendChild(a);\n",
              "      a.click();\n",
              "      div.remove();\n",
              "    }\n",
              "  "
            ],
            "text/plain": [
              "<IPython.core.display.Javascript object>"
            ]
          },
          "metadata": {
            "tags": []
          }
        },
        {
          "output_type": "display_data",
          "data": {
            "application/javascript": [
              "download(\"download_d687dbda-3709-4b1a-9d9d-30f1928c7c3b\", \"certificate_Lunawat_Tarang.pdf\", 238980)"
            ],
            "text/plain": [
              "<IPython.core.display.Javascript object>"
            ]
          },
          "metadata": {
            "tags": []
          }
        },
        {
          "output_type": "display_data",
          "data": {
            "application/javascript": [
              "\n",
              "    async function download(id, filename, size) {\n",
              "      if (!google.colab.kernel.accessAllowed) {\n",
              "        return;\n",
              "      }\n",
              "      const div = document.createElement('div');\n",
              "      const label = document.createElement('label');\n",
              "      label.textContent = `Downloading \"${filename}\": `;\n",
              "      div.appendChild(label);\n",
              "      const progress = document.createElement('progress');\n",
              "      progress.max = size;\n",
              "      div.appendChild(progress);\n",
              "      document.body.appendChild(div);\n",
              "\n",
              "      const buffers = [];\n",
              "      let downloaded = 0;\n",
              "\n",
              "      const channel = await google.colab.kernel.comms.open(id);\n",
              "      // Send a message to notify the kernel that we're ready.\n",
              "      channel.send({})\n",
              "\n",
              "      for await (const message of channel.messages) {\n",
              "        // Send a message to notify the kernel that we're ready.\n",
              "        channel.send({})\n",
              "        if (message.buffers) {\n",
              "          for (const buffer of message.buffers) {\n",
              "            buffers.push(buffer);\n",
              "            downloaded += buffer.byteLength;\n",
              "            progress.value = downloaded;\n",
              "          }\n",
              "        }\n",
              "      }\n",
              "      const blob = new Blob(buffers, {type: 'application/binary'});\n",
              "      const a = document.createElement('a');\n",
              "      a.href = window.URL.createObjectURL(blob);\n",
              "      a.download = filename;\n",
              "      div.appendChild(a);\n",
              "      a.click();\n",
              "      div.remove();\n",
              "    }\n",
              "  "
            ],
            "text/plain": [
              "<IPython.core.display.Javascript object>"
            ]
          },
          "metadata": {
            "tags": []
          }
        },
        {
          "output_type": "display_data",
          "data": {
            "application/javascript": [
              "download(\"download_38f52df2-b6c0-4a6e-afc3-482165376ebe\", \"certificate_Doe_Jane.pdf\", 238976)"
            ],
            "text/plain": [
              "<IPython.core.display.Javascript object>"
            ]
          },
          "metadata": {
            "tags": []
          }
        },
        {
          "output_type": "display_data",
          "data": {
            "application/javascript": [
              "\n",
              "    async function download(id, filename, size) {\n",
              "      if (!google.colab.kernel.accessAllowed) {\n",
              "        return;\n",
              "      }\n",
              "      const div = document.createElement('div');\n",
              "      const label = document.createElement('label');\n",
              "      label.textContent = `Downloading \"${filename}\": `;\n",
              "      div.appendChild(label);\n",
              "      const progress = document.createElement('progress');\n",
              "      progress.max = size;\n",
              "      div.appendChild(progress);\n",
              "      document.body.appendChild(div);\n",
              "\n",
              "      const buffers = [];\n",
              "      let downloaded = 0;\n",
              "\n",
              "      const channel = await google.colab.kernel.comms.open(id);\n",
              "      // Send a message to notify the kernel that we're ready.\n",
              "      channel.send({})\n",
              "\n",
              "      for await (const message of channel.messages) {\n",
              "        // Send a message to notify the kernel that we're ready.\n",
              "        channel.send({})\n",
              "        if (message.buffers) {\n",
              "          for (const buffer of message.buffers) {\n",
              "            buffers.push(buffer);\n",
              "            downloaded += buffer.byteLength;\n",
              "            progress.value = downloaded;\n",
              "          }\n",
              "        }\n",
              "      }\n",
              "      const blob = new Blob(buffers, {type: 'application/binary'});\n",
              "      const a = document.createElement('a');\n",
              "      a.href = window.URL.createObjectURL(blob);\n",
              "      a.download = filename;\n",
              "      div.appendChild(a);\n",
              "      a.click();\n",
              "      div.remove();\n",
              "    }\n",
              "  "
            ],
            "text/plain": [
              "<IPython.core.display.Javascript object>"
            ]
          },
          "metadata": {
            "tags": []
          }
        },
        {
          "output_type": "display_data",
          "data": {
            "application/javascript": [
              "download(\"download_0078c485-98c6-4922-9d12-a66e41240179\", \"certificate_Doe_John.pdf\", 238974)"
            ],
            "text/plain": [
              "<IPython.core.display.Javascript object>"
            ]
          },
          "metadata": {
            "tags": []
          }
        }
      ]
    }
  ]
}